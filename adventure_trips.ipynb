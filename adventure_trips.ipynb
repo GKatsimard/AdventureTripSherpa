{
 "cells": [
  {
   "cell_type": "code",
   "execution_count": 1,
   "metadata": {},
   "outputs": [],
   "source": [
    "from langchain.chat_models import ChatOpenAI\n",
    "from langchain import LLMChain\n",
    "from langchain import PromptTemplate\n",
    "from langchain.prompts.chat import (\n",
    "    ChatPromptTemplate,\n",
    "    SystemMessagePromptTemplate,\n",
    "    AIMessagePromptTemplate,\n",
    "    HumanMessagePromptTemplate,\n",
    ")\n",
    "from langchain.schema import (\n",
    "    SystemMessage,\n",
    "    AIMessage,\n",
    "    HumanMessage,\n",
    ")\n",
    "from apikeys import openai_api_key"
   ]
  },
  {
   "cell_type": "code",
   "execution_count": 17,
   "metadata": {},
   "outputs": [],
   "source": [
    "OPENAI_API_KEY = openai_api_key"
   ]
  },
  {
   "cell_type": "markdown",
   "metadata": {},
   "source": [
    "1. Prompt Template For Initial Suggestions"
   ]
  },
  {
   "cell_type": "code",
   "execution_count": 18,
   "metadata": {},
   "outputs": [],
   "source": [
    "# Sample input var values\n",
    "activity = \"Snowboarding\"\n",
    "trip_duration = \"1 week\"\n",
    "difficulty_level = \"expert\"\n",
    "user_location = \"Athens, Greece\""
   ]
  },
  {
   "cell_type": "code",
   "execution_count": 19,
   "metadata": {},
   "outputs": [],
   "source": [
    "chat = ChatOpenAI(openai_api_key=OPENAI_API_KEY)"
   ]
  },
  {
   "cell_type": "code",
   "execution_count": 21,
   "metadata": {},
   "outputs": [],
   "source": [
    "# Make SystemMessagePromptTemplate\n",
    "prompt=PromptTemplate(\n",
    "    template=\"You are a travel agent specialized in {activity} excursions. Answer to questions providing only the requested information and nothing more.\",\n",
    "    input_variables=[\"activity\"]\n",
    ")\n",
    "\n",
    "system_message_prompt = SystemMessagePromptTemplate(prompt=prompt)"
   ]
  },
  {
   "cell_type": "code",
   "execution_count": 22,
   "metadata": {},
   "outputs": [
    {
     "data": {
      "text/plain": [
       "SystemMessage(content='You are a travel agent specialized in Snowboarding excursions. Answer to questions providing only the requested information and nothing more.', additional_kwargs={})"
      ]
     },
     "execution_count": 22,
     "metadata": {},
     "output_type": "execute_result"
    }
   ],
   "source": [
    "# Output of system_message_prompt\n",
    "system_message_prompt.format(activity=activity)"
   ]
  },
  {
   "cell_type": "code",
   "execution_count": 23,
   "metadata": {},
   "outputs": [],
   "source": [
    "suggestions_prompt=PromptTemplate(\n",
    "    template=\"I live in {user_location}. I love {activity} and I am {difficulty_level}. I would like to go for a {trip_duration} excursion which involves {activity}. Can you give me 10 suggestions in a list and describe each item in the list, along with an explanation why this suggestion matches my preferences?\",\n",
    "    input_variables=[\"user_location\", \"activity\", \"difficulty_level\", \"trip_duration\"]\n",
    ")\n",
    "human_suggestions_prompt = HumanMessagePromptTemplate(prompt=suggestions_prompt)"
   ]
  },
  {
   "cell_type": "code",
   "execution_count": 24,
   "metadata": {},
   "outputs": [
    {
     "data": {
      "text/plain": [
       "HumanMessage(content='I live in Athens, Greece. I love Snowboarding and I am expert. I would like to go for a 1 week excursion which involves Snowboarding. Can you give me 10 suggestions in a list and describe each item in the list, along with an explanation why this suggestion matches my preferences?', additional_kwargs={})"
      ]
     },
     "execution_count": 24,
     "metadata": {},
     "output_type": "execute_result"
    }
   ],
   "source": [
    "human_suggestions_prompt.format(user_location=user_location, activity=activity, difficulty_level=difficulty_level, trip_duration=trip_duration)"
   ]
  },
  {
   "cell_type": "code",
   "execution_count": 25,
   "metadata": {},
   "outputs": [
    {
     "data": {
      "text/plain": [
       "ChatPromptTemplate(input_variables=['activity', 'user_location', 'difficulty_level', 'trip_duration'], output_parser=None, partial_variables={}, messages=[SystemMessagePromptTemplate(prompt=PromptTemplate(input_variables=['activity'], output_parser=None, partial_variables={}, template='You are a travel agent specialized in {activity} excursions. Answer to questions providing only the requested information and nothing more.', template_format='f-string', validate_template=True), additional_kwargs={}), HumanMessagePromptTemplate(prompt=PromptTemplate(input_variables=['user_location', 'activity', 'difficulty_level', 'trip_duration'], output_parser=None, partial_variables={}, template='I live in {user_location}. I love {activity} and I am {difficulty_level}. I would like to go for a {trip_duration} excursion which involves {activity}. Can you give me 10 suggestions in a list and describe each item in the list, along with an explanation why this suggestion matches my preferences?', template_format='f-string', validate_template=True), additional_kwargs={})])"
      ]
     },
     "execution_count": 25,
     "metadata": {},
     "output_type": "execute_result"
    }
   ],
   "source": [
    "# Create ChatPromptTemplate: Combine System + Human\n",
    "chat_prompt = ChatPromptTemplate.from_messages([system_message_prompt, human_suggestions_prompt])\n",
    "chat_prompt"
   ]
  },
  {
   "cell_type": "code",
   "execution_count": 26,
   "metadata": {},
   "outputs": [
    {
     "data": {
      "text/plain": [
       "[SystemMessage(content='You are a travel agent specialized in Snowboarding excursions. Answer to questions providing only the requested information and nothing more.', additional_kwargs={}),\n",
       " HumanMessage(content='I live in Athens, Greece. I love Snowboarding and I am expert. I would like to go for a 1 week excursion which involves Snowboarding. Can you give me 10 suggestions in a list and describe each item in the list, along with an explanation why this suggestion matches my preferences?', additional_kwargs={})]"
      ]
     },
     "execution_count": 26,
     "metadata": {},
     "output_type": "execute_result"
    }
   ],
   "source": [
    "chat_prompt_with_values = chat_prompt.format_prompt(activity=activity, \\\n",
    "                                                    user_location=user_location, \\\n",
    "                                                    difficulty_level=difficulty_level, \\\n",
    "                                                    trip_duration=trip_duration)\n",
    "\n",
    "chat_prompt_with_values.to_messages()"
   ]
  },
  {
   "cell_type": "code",
   "execution_count": 27,
   "metadata": {},
   "outputs": [
    {
     "name": "stdout",
     "output_type": "stream",
     "text": [
      "1. Verbier, Switzerland - Verbier is a world-renowned ski resort that offers some of the best freeride terrain in the world. It has a large and varied terrain, including off-piste areas, which would be perfect for an expert snowboarder like yourself.\n",
      "\n",
      "2. Whistler Blackcomb, Canada - Whistler Blackcomb is the largest ski resort in North America, with over 8,100 acres of skiable terrain. It has a lot of challenging runs and off-piste areas, which would be perfect for an expert snowboarder.\n",
      "\n",
      "3. Chamonix, France - Chamonix is a town in the French Alps that is famous for its high-altitude skiing and snowboarding. It has a lot of challenging runs and off-piste areas, which would be perfect for an expert snowboarder.\n",
      "\n",
      "4. Niseko, Japan - Niseko is a ski resort in Japan that is famous for its deep powder snow. It has a lot of challenging runs and off-piste areas, which would be perfect for an expert snowboarder.\n",
      "\n",
      "5. Jackson Hole, USA - Jackson Hole is a ski resort in Wyoming that is known for its steep, challenging terrain. It has a lot of challenging runs and off-piste areas, which would be perfect for an expert snowboarder.\n",
      "\n",
      "6. La Grave, France - La Grave is a ski resort in the French Alps that is known for its challenging off-piste terrain. It has a lot of challenging runs and off-piste areas, which would be perfect for an expert snowboarder.\n",
      "\n",
      "7. Banff, Canada - Banff is a town in the Canadian Rockies that is surrounded by three ski resorts: Banff Norquay, Lake Louise Ski Resort, and Mt. Norquay. All three resorts offer a lot of challenging runs and off-piste areas, which would be perfect for an expert snowboarder.\n",
      "\n",
      "8. Alyeska, Alaska - Alyeska is a ski resort in Alaska that is known for its steep, challenging terrain. It has a lot of challenging runs and off-piste areas, which would be perfect for an expert snowboarder.\n",
      "\n",
      "9. Zermatt, Switzerland - Zermatt is a ski resort in Switzerland that is famous for its high-altitude skiing and snowboarding. It has a lot of challenging runs and off-piste areas, which would be perfect for an expert snowboarder.\n",
      "\n",
      "10. Val d'Isere, France - Val d'Isere is a ski resort in the French Alps that is known for its challenging, off-piste terrain. It has a lot of challenging runs and off-piste areas, which would be perfect for an expert snowboarder.\n",
      "\n",
      "These suggestions match your preferences because they are all ski resorts that offer a lot of challenging runs and off-piste areas, which would be perfect for an expert snowboarder like yourself. Additionally, they are located in some of the most beautiful and scenic areas in the world, providing you with an incredible snowboarding experience.\n"
     ]
    }
   ],
   "source": [
    "response = chat(chat_prompt_with_values.to_messages()).content\n",
    "print (response)"
   ]
  },
  {
   "cell_type": "code",
   "execution_count": 28,
   "metadata": {},
   "outputs": [],
   "source": [
    "picked_location = \"Chamonix, France\""
   ]
  },
  {
   "cell_type": "markdown",
   "metadata": {},
   "source": [
    "2. Day to day plan for the trip"
   ]
  },
  {
   "cell_type": "code",
   "execution_count": 29,
   "metadata": {},
   "outputs": [],
   "source": [
    "day_to_day_prompt=PromptTemplate(\n",
    "    template=\"I live in {user_location}. I love {activity} and I am {difficulty_level}. I would like to go for a {trip_duration} excursion which involves {activity}. I want to go to {picked_location}. Can you give me a detailed day to day plan and description of the excursion?\",\n",
    "    input_variables=[\"user_location\", \"activity\", \"difficulty_level\", \"trip_duration\", \"picked_location\"]\n",
    ")\n",
    "day_to_day_prompt = HumanMessagePromptTemplate(prompt=day_to_day_prompt)"
   ]
  },
  {
   "cell_type": "code",
   "execution_count": 30,
   "metadata": {},
   "outputs": [
    {
     "data": {
      "text/plain": [
       "ChatPromptTemplate(input_variables=['user_location', 'picked_location', 'activity', 'difficulty_level', 'trip_duration'], output_parser=None, partial_variables={}, messages=[SystemMessagePromptTemplate(prompt=PromptTemplate(input_variables=['activity'], output_parser=None, partial_variables={}, template='You are a travel agent specialized in {activity} excursions. Answer to questions providing only the requested information and nothing more.', template_format='f-string', validate_template=True), additional_kwargs={}), HumanMessagePromptTemplate(prompt=PromptTemplate(input_variables=['user_location', 'activity', 'difficulty_level', 'trip_duration', 'picked_location'], output_parser=None, partial_variables={}, template='I live in {user_location}. I love {activity} and I am {difficulty_level}. I would like to go for a {trip_duration} excursion which involves {activity}. I want to go to {picked_location}. Can you give me a detailed day to day plan and description of the excursion?', template_format='f-string', validate_template=True), additional_kwargs={})])"
      ]
     },
     "execution_count": 30,
     "metadata": {},
     "output_type": "execute_result"
    }
   ],
   "source": [
    "# Create ChatPromptTemplate: Combine System + Human\n",
    "dtod_prompt = ChatPromptTemplate.from_messages([system_message_prompt, day_to_day_prompt])\n",
    "dtod_prompt"
   ]
  },
  {
   "cell_type": "code",
   "execution_count": 31,
   "metadata": {},
   "outputs": [
    {
     "data": {
      "text/plain": [
       "[SystemMessage(content='You are a travel agent specialized in Snowboarding excursions. Answer to questions providing only the requested information and nothing more.', additional_kwargs={}),\n",
       " HumanMessage(content='I live in Athens, Greece. I love Snowboarding and I am expert. I would like to go for a 1 week excursion which involves Snowboarding. I want to go to Chamonix, France. Can you give me a detailed day to day plan and description of the excursion?', additional_kwargs={})]"
      ]
     },
     "execution_count": 31,
     "metadata": {},
     "output_type": "execute_result"
    }
   ],
   "source": [
    "dtod_prompt_with_values = dtod_prompt.format_prompt(activity=activity, \\\n",
    "                                                    user_location=user_location, \\\n",
    "                                                    difficulty_level=difficulty_level, \\\n",
    "                                                    trip_duration=trip_duration, \\\n",
    "                                                    picked_location=picked_location)\n",
    "\n",
    "dtod_prompt_with_values.to_messages()"
   ]
  },
  {
   "cell_type": "code",
   "execution_count": 32,
   "metadata": {},
   "outputs": [
    {
     "name": "stdout",
     "output_type": "stream",
     "text": [
      "Sure, I can definitely help you with that! Here is a day-to-day plan for your 1-week Snowboarding excursion in Chamonix, France:\n",
      "\n",
      "Day 1: Arrival in Chamonix\n",
      "- Check-in to your hotel and settle in\n",
      "- Meet with your Snowboarding guide to discuss the plan for the week\n",
      "- Explore the town and get familiar with the area\n",
      "\n",
      "Day 2: Snowboarding in Chamonix\n",
      "- Start the day with a warm-up session on the slopes\n",
      "- Take the Aiguille du Midi cable car to access the high mountain terrain\n",
      "- Spend the day Snowboarding on the various slopes and off-piste areas\n",
      "- Return to the hotel in the evening\n",
      "\n",
      "Day 3: Snowboarding in Argentiere\n",
      "- Take a bus to the nearby town of Argentiere\n",
      "- Explore the slopes and off-piste areas of the Argentiere ski area\n",
      "- Return to Chamonix in the evening\n",
      "\n",
      "Day 4: Snowboarding in Courmayeur, Italy\n",
      "- Take a bus to the nearby town of Courmayeur, Italy\n",
      "- Explore the slopes and off-piste areas of the Courmayeur ski area\n",
      "- Return to Chamonix in the evening\n",
      "\n",
      "Day 5: Snowboarding in Les Houches\n",
      "- Take a bus to the nearby town of Les Houches\n",
      "- Explore the slopes and off-piste areas of the Les Houches ski area\n",
      "- Return to Chamonix in the evening\n",
      "\n",
      "Day 6: Snowboarding in Chamonix\n",
      "- Spend the day Snowboarding on the various slopes and off-piste areas of Chamonix\n",
      "- Take a break for lunch at one of the mountain restaurants\n",
      "- Return to the hotel in the evening\n",
      "\n",
      "Day 7: Departure from Chamonix\n",
      "- Check-out from your hotel\n",
      "- Say goodbye to your Snowboarding guide\n",
      "- Take a transfer to the airport or train station for your journey back to Athens\n",
      "\n",
      "Please note that this is just a rough plan and can be customized according to your preferences and weather/snow conditions. The Snowboarding guide will be able to provide you with more specific details and recommendations once you have arrived in Chamonix.\n"
     ]
    }
   ],
   "source": [
    "response = chat(dtod_prompt_with_values.to_messages()).content\n",
    "print (response)"
   ]
  }
 ],
 "metadata": {
  "kernelspec": {
   "display_name": "Python 3 (ipykernel)",
   "language": "python",
   "name": "python3"
  },
  "language_info": {
   "codemirror_mode": {
    "name": "ipython",
    "version": 3
   },
   "file_extension": ".py",
   "mimetype": "text/x-python",
   "name": "python",
   "nbconvert_exporter": "python",
   "pygments_lexer": "ipython3",
   "version": "3.9.13"
  }
 },
 "nbformat": 4,
 "nbformat_minor": 2
}
