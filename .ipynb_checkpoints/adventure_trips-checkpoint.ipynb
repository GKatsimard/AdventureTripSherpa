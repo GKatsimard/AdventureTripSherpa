{
 "cells": [
  {
   "cell_type": "code",
   "execution_count": 1,
   "metadata": {},
   "outputs": [
    {
     "ename": "ModuleNotFoundError",
     "evalue": "No module named 'langchain.chat_models'",
     "output_type": "error",
     "traceback": [
      "\u001b[0;31m---------------------------------------------------------------------------\u001b[0m",
      "\u001b[0;31mModuleNotFoundError\u001b[0m                       Traceback (most recent call last)",
      "Cell \u001b[0;32mIn [1], line 1\u001b[0m\n\u001b[0;32m----> 1\u001b[0m \u001b[38;5;28;01mfrom\u001b[39;00m \u001b[38;5;21;01mlangchain\u001b[39;00m\u001b[38;5;21;01m.\u001b[39;00m\u001b[38;5;21;01mchat_models\u001b[39;00m \u001b[38;5;28;01mimport\u001b[39;00m ChatOpenAI\n\u001b[1;32m      2\u001b[0m \u001b[38;5;28;01mfrom\u001b[39;00m \u001b[38;5;21;01mlangchain\u001b[39;00m \u001b[38;5;28;01mimport\u001b[39;00m LLMChain\n\u001b[1;32m      3\u001b[0m \u001b[38;5;28;01mfrom\u001b[39;00m \u001b[38;5;21;01mlangchain\u001b[39;00m \u001b[38;5;28;01mimport\u001b[39;00m PromptTemplate\n",
      "\u001b[0;31mModuleNotFoundError\u001b[0m: No module named 'langchain.chat_models'"
     ]
    }
   ],
   "source": [
    "from langchain.chat_models import ChatOpenAI\n",
    "from langchain import LLMChain\n",
    "from langchain import PromptTemplate\n",
    "from langchain.prompts.chat import (\n",
    "    ChatPromptTemplate,\n",
    "    SystemMessagePromptTemplate,\n",
    "    AIMessagePromptTemplate,\n",
    "    HumanMessagePromptTemplate,\n",
    ")\n",
    "from langchain.schema import (\n",
    "    SystemMessage,\n",
    "    AIMessage,\n",
    "    HumanMessage,\n",
    ")\n",
    "from apikeys import openai_api_key"
   ]
  },
  {
   "cell_type": "code",
   "execution_count": null,
   "metadata": {},
   "outputs": [],
   "source": [
    "OPENAI_API_KEY = openai_api_key"
   ]
  },
  {
   "cell_type": "markdown",
   "metadata": {},
   "source": [
    "1. Prompt Template For Initial Suggestions"
   ]
  },
  {
   "cell_type": "code",
   "execution_count": null,
   "metadata": {},
   "outputs": [],
   "source": [
    "# Sample input var values\n",
    "activity = \"Hiking\"\n",
    "trip_duration = \"3 days\"\n",
    "difficulty_level = \"well trained\"\n",
    "user_location = \"Athens, Greece\""
   ]
  },
  {
   "cell_type": "code",
   "execution_count": null,
   "metadata": {},
   "outputs": [],
   "source": [
    "chat = ChatOpenAI(openai_api_key=OPENAI_API_KEY)"
   ]
  },
  {
   "cell_type": "code",
   "execution_count": null,
   "metadata": {},
   "outputs": [],
   "source": [
    "# Make SystemMessagePromptTemplate\n",
    "prompt=PromptTemplate(\n",
    "    template=\"You are a travel agent specialized in {activity} excursions. Answer to questions providing only the requested information and nothing more.\",\n",
    "    input_variables=[\"activity\"]\n",
    ")\n",
    "\n",
    "system_message_prompt = SystemMessagePromptTemplate(prompt=prompt)"
   ]
  },
  {
   "cell_type": "code",
   "execution_count": null,
   "metadata": {},
   "outputs": [],
   "source": [
    "# Output of system_message_prompt\n",
    "system_message_prompt.format(activity=activity)"
   ]
  },
  {
   "cell_type": "code",
   "execution_count": null,
   "metadata": {},
   "outputs": [],
   "source": [
    "suggestions_prompt=PromptTemplate(\n",
    "    template=\"I live in {user_location}. I love {activity} and I am {difficulty_level}. I would like to go for a {trip_duration} excursion which involves {activity}. Can you give me 10 suggestions in a list and describe each item in the list, along with an explanation why this suggestion matches my preferences?\",\n",
    "    input_variables=[\"user_location\", \"activity\", \"difficulty_level\", \"trip_duration\"]\n",
    ")\n",
    "human_suggestions_prompt = HumanMessagePromptTemplate(prompt=suggestions_prompt)"
   ]
  },
  {
   "cell_type": "code",
   "execution_count": null,
   "metadata": {},
   "outputs": [],
   "source": [
    "human_suggestions_prompt.format(user_location=user_location, activity=activity, difficulty_level=difficulty_level, trip_duration=trip_duration)"
   ]
  },
  {
   "cell_type": "code",
   "execution_count": null,
   "metadata": {},
   "outputs": [],
   "source": [
    "# Create ChatPromptTemplate: Combine System + Human\n",
    "chat_prompt = ChatPromptTemplate.from_messages([system_message_prompt, human_suggestions_prompt])\n",
    "chat_prompt"
   ]
  },
  {
   "cell_type": "code",
   "execution_count": null,
   "metadata": {},
   "outputs": [],
   "source": [
    "chat_prompt_with_values = chat_prompt.format_prompt(activity=activity, \\\n",
    "                                                    user_location=user_location, \\\n",
    "                                                    difficulty_level=difficulty_level, \\\n",
    "                                                    trip_duration=trip_duration)\n",
    "\n",
    "chat_prompt_with_values.to_messages()"
   ]
  },
  {
   "cell_type": "code",
   "execution_count": null,
   "metadata": {},
   "outputs": [],
   "source": [
    "response = chat(chat_prompt_with_values.to_messages()).content\n",
    "print (response)"
   ]
  },
  {
   "cell_type": "code",
   "execution_count": null,
   "metadata": {},
   "outputs": [],
   "source": [
    "picked_location = \"Mount Taygetos\""
   ]
  },
  {
   "cell_type": "markdown",
   "metadata": {},
   "source": [
    "2. Day to day plan for the trip"
   ]
  },
  {
   "cell_type": "code",
   "execution_count": null,
   "metadata": {},
   "outputs": [],
   "source": [
    "day_to_day_prompt=PromptTemplate(\n",
    "    template=\"I live in {user_location}. I love {activity} and I am {difficulty_level}. I would like to go for a {trip_duration} excursion which involves {activity}. I want to go to {picked_location}. Can you give me a detailed day to day plan and description of the excursion?\",\n",
    "    input_variables=[\"user_location\", \"activity\", \"difficulty_level\", \"trip_duration\", \"picked_location\"]\n",
    ")\n",
    "day_to_day_prompt = HumanMessagePromptTemplate(prompt=day_to_day_prompt)"
   ]
  },
  {
   "cell_type": "code",
   "execution_count": null,
   "metadata": {},
   "outputs": [],
   "source": [
    "# Create ChatPromptTemplate: Combine System + Human\n",
    "dtod_prompt = ChatPromptTemplate.from_messages([system_message_prompt, day_to_day_prompt])\n",
    "dtod_prompt"
   ]
  },
  {
   "cell_type": "code",
   "execution_count": null,
   "metadata": {},
   "outputs": [],
   "source": [
    "dtod_prompt_with_values = dtod_prompt.format_prompt(activity=activity, \\\n",
    "                                                    user_location=user_location, \\\n",
    "                                                    difficulty_level=difficulty_level, \\\n",
    "                                                    trip_duration=trip_duration, \\\n",
    "                                                    picked_location=picked_location)\n",
    "\n",
    "dtod_prompt_with_values.to_messages()"
   ]
  },
  {
   "cell_type": "code",
   "execution_count": null,
   "metadata": {},
   "outputs": [],
   "source": [
    "response = chat(dtod_prompt_with_values.to_messages()).content\n",
    "print (response)"
   ]
  }
 ],
 "metadata": {
  "kernelspec": {
   "display_name": "Python 3 (ipykernel)",
   "language": "python",
   "name": "python3"
  },
  "language_info": {
   "codemirror_mode": {
    "name": "ipython",
    "version": 3
   },
   "file_extension": ".py",
   "mimetype": "text/x-python",
   "name": "python",
   "nbconvert_exporter": "python",
   "pygments_lexer": "ipython3",
   "version": "3.9.13"
  }
 },
 "nbformat": 4,
 "nbformat_minor": 2
}
